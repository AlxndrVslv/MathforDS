{
 "cells": [
  {
   "cell_type": "markdown",
   "metadata": {
    "id": "_kX74ytuOfgy"
   },
   "source": [
    "# Домашнее задание \"Линейная алгебра. Матрицы\"."
   ]
  },
  {
   "cell_type": "markdown",
   "metadata": {
    "id": "t69IZulqTZMz"
   },
   "source": [
    "## Уровень 0:\n"
   ]
  },
  {
   "cell_type": "markdown",
   "metadata": {
    "id": "9JUikPzroAL8"
   },
   "source": [
    "### Задание 1"
   ]
  },
  {
   "cell_type": "markdown",
   "metadata": {
    "id": "ya8BlSO5nQ9a"
   },
   "source": [
    " - Создайте матрицу 3 на 3, заполненную числами от 1 до 9\n",
    " - Прибавьте к ней матрицу с единицами на диагонале\n",
    " - Умножьте полученную матрицу на вектор (1, 2, 3)\n",
    " - Вычислить транспонированную матрицу $A^T$ от полученной в результате прибавления матрицы\n",
    " - Посчитайте обратную матрицу к полученной в результате прибавления матрице\n"
   ]
  },
  {
   "cell_type": "code",
   "execution_count": 150,
   "metadata": {
    "id": "hZ34229YdNlq"
   },
   "outputs": [
    {
     "name": "stdout",
     "output_type": "stream",
     "text": [
      "Матрица 1:\n",
      "[[1 2 3]\n",
      " [4 5 6]\n",
      " [7 8 9]]\n",
      "\n",
      "Матрица 2:\n",
      "[[ 2.  2.  3.]\n",
      " [ 4.  6.  6.]\n",
      " [ 7.  8. 10.]]\n",
      "\n",
      "Матрица 3:\n",
      "[15. 34. 53.]\n",
      "\n",
      "Матрица 4:\n",
      "[[ 2.  4.  7.]\n",
      " [ 2.  6.  8.]\n",
      " [ 3.  6. 10.]]\n",
      "\n",
      "Матрица 5:\n",
      "[[-6.00000000e+00 -2.00000000e+00  3.00000000e+00]\n",
      " [-1.00000000e+00  5.00000000e-01  2.22044605e-17]\n",
      " [ 5.00000000e+00  1.00000000e+00 -2.00000000e+00]]\n"
     ]
    }
   ],
   "source": [
    "### YOUR CODE HERE\n",
    "import numpy as np\n",
    "mat1 = np.arange(1, 10).reshape((3, 3))\n",
    "print(f'Матрица 1:\\n{mat1}\\n')\n",
    "mat2 = mat1 + np.eye(3)\n",
    "print(f'Матрица 2:\\n{mat2}\\n')\n",
    "mat3 = mat2 @ np.array([1, 2, 3])\n",
    "print(f'Матрица 3:\\n{mat3}\\n')\n",
    "mat4 = mat2.transpose()\n",
    "print(f'Матрица 4:\\n{mat4}\\n')\n",
    "mat5 = np.linalg.inv(mat2)\n",
    "print(f'Матрица 5:\\n{mat5}')"
   ]
  },
  {
   "cell_type": "markdown",
   "metadata": {
    "id": "qZxS_tEVTapE"
   },
   "source": [
    "## Уровень 1:"
   ]
  },
  {
   "cell_type": "markdown",
   "metadata": {
    "id": "gUB5Tx31oDZB"
   },
   "source": [
    "### Задание 2"
   ]
  },
  {
   "cell_type": "markdown",
   "metadata": {
    "id": "Jh-pEPj-TcDQ"
   },
   "source": [
    "Найдите собственные значения и собственные вектора матрицы:\n",
    "```\n",
    "m = np.array([[2, 2],\n",
    "              [1, 3]])\n",
    "print(m)\n",
    "```\n",
    "\n"
   ]
  },
  {
   "cell_type": "code",
   "execution_count": 151,
   "metadata": {
    "id": "1OeJWLrpobqU"
   },
   "outputs": [
    {
     "name": "stdout",
     "output_type": "stream",
     "text": [
      "Собственные значения: [1. 4.]\n",
      "Собсбвенный вектор:\n",
      " [[-0.89442719 -0.70710678]\n",
      " [ 0.4472136  -0.70710678]]\n"
     ]
    }
   ],
   "source": [
    "### YOUR CODE HERE\n",
    "m = np.array([[2, 2],\n",
    "              [1, 3]])\n",
    "eig_vals, eig_vectors = np.linalg.eig(m)\n",
    "print(f'Собственные значения: {eig_vals}')\n",
    "print(f'Собсбвенный вектор:\\n {eig_vectors}')"
   ]
  },
  {
   "cell_type": "markdown",
   "metadata": {
    "id": "Tj14Nn3NOp8s"
   },
   "source": [
    "### Задание 3\n"
   ]
  },
  {
   "cell_type": "markdown",
   "metadata": {
    "id": "JMjSYrp4OrpG"
   },
   "source": [
    "Придумайте матрицу, у которой определитель = 1, и все элементы не равны 0.\n",
    "\n",
    "P.S. Матрица должна быть ненулевой и размерностью не менее 2! "
   ]
  },
  {
   "cell_type": "code",
   "execution_count": 152,
   "metadata": {
    "id": "hRov-LJgOrz0"
   },
   "outputs": [
    {
     "name": "stdout",
     "output_type": "stream",
     "text": [
      "Матрица с единичным определителем:\n",
      " [[  1.   3.   5.]\n",
      " [  4.  13.  28.]\n",
      " [ 24.  76. 153.]]\n",
      "Определитель матрицы: 1.00\n"
     ]
    }
   ],
   "source": [
    "### YOUR CODE HERE\n",
    "# Возмем единичную матрицу:\n",
    "mat = np.eye(3)\n",
    "# Для избавления от нулей прибавим к каждой строке другие строки, умноженные на случайное целое число:\n",
    "mat[0] = mat[0] + mat[1]*np.random.randint(1, 10) + mat[2]*np.random.randint(1, 10)\n",
    "mat[1] = mat[1] + mat[0]*np.random.randint(1, 10) + mat[2]*np.random.randint(1, 10)\n",
    "mat[2] = mat[2] + mat[0]*np.random.randint(1, 10) + mat[1]*np.random.randint(1, 10)\n",
    "print(f'Матрица с единичным определителем:\\n {mat}')\n",
    "print(f'Определитель матрицы: {np.linalg.det(mat):.2f}')"
   ]
  },
  {
   "cell_type": "code",
   "execution_count": 172,
   "metadata": {},
   "outputs": [
    {
     "name": "stdout",
     "output_type": "stream",
     "text": [
      "[1 2 3]\n",
      "\n",
      "[[1 2]\n",
      " [3 4]\n",
      " [5 6]]\n"
     ]
    },
    {
     "data": {
      "text/plain": [
       "array([22, 28])"
      ]
     },
     "execution_count": 172,
     "metadata": {},
     "output_type": "execute_result"
    }
   ],
   "source": [
    "v = np.array([1, 2, 3])\n",
    "A = np.array([[1, 2], [3, 4], [5, 6]])\n",
    "print(v)\n",
    "print()\n",
    "print(A)\n",
    "v @ A\n",
    "#A @ v"
   ]
  },
  {
   "cell_type": "code",
   "execution_count": 176,
   "metadata": {},
   "outputs": [
    {
     "name": "stdout",
     "output_type": "stream",
     "text": [
      "[1 2 3]\n",
      "\n",
      "[[1 2]\n",
      " [3 4]\n",
      " [5 6]]\n",
      "\n",
      "[22 28]\n",
      "[22 28]\n"
     ]
    }
   ],
   "source": [
    "print(v)\n",
    "print()\n",
    "print(A)\n",
    "print()\n",
    "print(np.dot(v, A))\n",
    "print(np.matmul(v, A))"
   ]
  },
  {
   "cell_type": "code",
   "execution_count": 180,
   "metadata": {},
   "outputs": [
    {
     "name": "stdout",
     "output_type": "stream",
     "text": [
      "[[1 2]\n",
      " [3 4]]\n",
      "[[5 6]\n",
      " [7 8]]\n"
     ]
    },
    {
     "data": {
      "text/plain": [
       "array([[19, 22],\n",
       "       [43, 50]])"
      ]
     },
     "execution_count": 180,
     "metadata": {},
     "output_type": "execute_result"
    }
   ],
   "source": [
    "A = np.array([[1, 2], [3, 4]])\n",
    "B = np.array([[5, 6], [7, 8]])\n",
    "print(A)\n",
    "print(B)\n",
    "np.dot(A, B)  # вернёт матрицу: [[1*5 + 2*7, 1*6 + 2*8], [3*5 + 4*7, 3*6 + 4*8]]"
   ]
  },
  {
   "cell_type": "code",
   "execution_count": 181,
   "metadata": {},
   "outputs": [
    {
     "name": "stdout",
     "output_type": "stream",
     "text": [
      "[[1 2]\n",
      " [3 4]]\n",
      "[[5 6]\n",
      " [7 8]]\n",
      "[[19 22]\n",
      " [43 50]]\n"
     ]
    }
   ],
   "source": [
    "# создание двух матриц\n",
    "A = np.array([[1, 2], [3, 4]])\n",
    "B = np.array([[5, 6], [7, 8]])\n",
    "print(A)\n",
    "print(B)\n",
    "# выполнение матричного умножения с помощью matmul()\n",
    "result = np.matmul(A, B)\n",
    "print(result)"
   ]
  },
  {
   "cell_type": "code",
   "execution_count": 167,
   "metadata": {},
   "outputs": [
    {
     "name": "stdout",
     "output_type": "stream",
     "text": [
      "[[1 2]\n",
      " [3 4]]\n",
      "\n",
      "[[1 2]\n",
      " [3 4]]\n",
      "\n",
      "[[ 7 10]\n",
      " [15 22]]\n"
     ]
    }
   ],
   "source": [
    "m1 = np.array([[1, 2], [3, 4]])\n",
    "m2 = np.array([[1, 2], [3, 4]])\n",
    "print(m1)\n",
    "print()\n",
    "print(m2)\n",
    "print()\n",
    "print(np.dot(m1, m2))"
   ]
  },
  {
   "cell_type": "code",
   "execution_count": 182,
   "metadata": {},
   "outputs": [
    {
     "name": "stdout",
     "output_type": "stream",
     "text": [
      "[1 2 3]\n",
      "[4 5 6]\n",
      "32\n",
      "32\n"
     ]
    }
   ],
   "source": [
    "v1 = np.array([1, 2, 3])\n",
    "v2 = np.array([4, 5, 6])\n",
    "print(v1)\n",
    "print(v2)\n",
    "print(np.dot(v1, v2))\n",
    "print(np.matmul(v1, v2))"
   ]
  }
 ],
 "metadata": {
  "colab": {
   "collapsed_sections": [],
   "name": "HW_2_upd",
   "provenance": []
  },
  "kernelspec": {
   "display_name": "Python 3 (ipykernel)",
   "language": "python",
   "name": "python3"
  },
  "language_info": {
   "codemirror_mode": {
    "name": "ipython",
    "version": 3
   },
   "file_extension": ".py",
   "mimetype": "text/x-python",
   "name": "python",
   "nbconvert_exporter": "python",
   "pygments_lexer": "ipython3",
   "version": "3.12.7"
  }
 },
 "nbformat": 4,
 "nbformat_minor": 4
}
