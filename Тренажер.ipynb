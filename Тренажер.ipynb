{
 "cells": [
  {
   "cell_type": "code",
   "execution_count": 1,
   "id": "97cdafb4-e3b5-4ea7-af4e-089153b924c3",
   "metadata": {},
   "outputs": [
    {
     "name": "stdout",
     "output_type": "stream",
     "text": [
      "Поэлементная сумма векторов [0.15416284 0.7400497  0.26331502 0.53373939] и [1 2 3 4] = [1.15416284 2.7400497  3.26331502 4.53373939]\n",
      "Поэлементная разность векторов [0.15416284 0.7400497  0.26331502 0.53373939] и [1 2 3 4] = [-0.84583716 -1.2599503  -2.73668498 -3.46626061]\n",
      "Поэлементное произведение векторов [0.15416284 0.7400497  0.26331502 0.53373939] и [1 2 3 4] = [0.15416284 1.48009939 0.78994505 2.13495757]\n",
      "Поэлементное деление векторов [0.15416284 0.7400497  0.26331502 0.53373939] и [1 2 3 4] = [0.15416284 0.37002485 0.08777167 0.13343485]\n"
     ]
    }
   ],
   "source": [
    "import numpy as np\n",
    "\n",
    "def seed(seed_value):\n",
    "    np.random.seed(seed_value)\n",
    "    vec_1 = np.random.rand(4)\n",
    "    return vec_1\n",
    "\n",
    "def vector_arithmetic(vec_1):\n",
    "    \n",
    "    vec_2 = np.array([1, 2, 3, 4])\n",
    "    \n",
    "    addition_result = vec_1 + vec_2\n",
    "    subtraction_result = vec_1 - vec_2\n",
    "    elementwise_multiplication = vec_1 * vec_2\n",
    "    elementwise_division = vec_1 / vec_2\n",
    "    \n",
    "    return vec_2, addition_result, subtraction_result, elementwise_multiplication, elementwise_division   \n",
    "\n",
    "print(f\"Поэлементная сумма векторов {seed(12)} и {vector_arithmetic(seed(12))[0]} = {vector_arithmetic(seed(12))[1]}\")\n",
    "print(f\"Поэлементная разность векторов {seed(12)} и {vector_arithmetic(seed(12))[0]} = {vector_arithmetic(seed(12))[2]}\")\n",
    "print(f\"Поэлементное произведение векторов {seed(12)} и {vector_arithmetic(seed(12))[0]} = {vector_arithmetic(seed(12))[3]}\")\n",
    "print(f\"Поэлементное деление векторов {seed(12)} и {vector_arithmetic(seed(12))[0]} = {vector_arithmetic(seed(12))[4]}\")"
   ]
  },
  {
   "cell_type": "code",
   "execution_count": 2,
   "id": "8cdc10db-6047-437c-b8a2-144fca07907f",
   "metadata": {},
   "outputs": [
    {
     "name": "stdout",
     "output_type": "stream",
     "text": [
      "Скалярное произведение векторов [0.15416284 0.7400497  0.26331502 0.53373939 0.01457496] и [5 4 3 2 1] = 5.6030117927614\n",
      "Сумма 0.7400496965154048 и [5 4 3 2 1] = [5.7400497 4.7400497 3.7400497 2.7400497 1.7400497]\n",
      "Произведение 0.014574962485419674 и [5 4 3 2 1] = [0.07287481 0.05829985 0.04372489 0.02914992 0.01457496]\n"
     ]
    }
   ],
   "source": [
    "import numpy as np\n",
    "\n",
    "def seed(seed_value):\n",
    "    np.random.seed(seed_value)\n",
    "    vec_1 = np.random.rand(5)\n",
    "    return vec_1\n",
    "\n",
    "def vector_arithmetic(vec_1):\n",
    "    \n",
    "    vec_2 = np.array([5, 4, 3, 2, 1])\n",
    "    \n",
    "    dot_product = np.dot(vec_1, vec_2)\n",
    "    scalar_addition = vec_2 + vec_1[1]\n",
    "    scalar_multiplication = vec_2 * vec_1[-1]\n",
    "\n",
    "    return vec_2, dot_product, scalar_addition, scalar_multiplication   \n",
    "\n",
    "print(f\"Скалярное произведение векторов {seed(12)} и {vector_arithmetic(seed(12))[0]} = {vector_arithmetic(seed(12))[1]}\")\n",
    "print(f\"Сумма {seed(12)[1]} и {vector_arithmetic(seed(12))[0]} = {vector_arithmetic(seed(12))[2]}\")\n",
    "print(f\"Произведение {seed(12)[-1]} и {vector_arithmetic(seed(12))[0]} = {vector_arithmetic(seed(12))[3]}\")"
   ]
  },
  {
   "cell_type": "code",
   "execution_count": 4,
   "id": "52cda998-1132-4de9-91c2-7159a76d07f3",
   "metadata": {},
   "outputs": [
    {
     "name": "stdout",
     "output_type": "stream",
     "text": [
      "Косинус угла между векторами [0.15416284 0.7400497  0.26331502 0.53373939 0.01457496 0.91874701] и [0.90071485 0.03342143 0.95694934 0.13720932 0.28382835 0.60608318] = 0.5326110513352398\n"
     ]
    }
   ],
   "source": [
    "import numpy as np\n",
    "\n",
    "def seed(seed_value):\n",
    "    np.random.seed(seed_value)\n",
    "    vec_1 = np.random.rand(6)\n",
    "    vec_2 = np.random.rand(6)\n",
    "    return vec_1, vec_2\n",
    "\n",
    "def cosine_similarity(vec_1, vec_2):\n",
    "\n",
    "    cosine_similarity = np.dot(vec_1, vec_2) / (np.linalg.norm(vec_1) * np.linalg.norm(vec_2))\n",
    "\n",
    "    return cosine_similarity\n",
    "\n",
    "print(f\"Косинус угла между векторами {seed(12)[0]} и {seed(12)[1]} = {cosine_similarity(seed(12)[0], seed(12)[1])}\")"
   ]
  },
  {
   "cell_type": "code",
   "execution_count": 1,
   "id": "a69e60e7-86c8-4c86-bd36-4a6bf607628b",
   "metadata": {},
   "outputs": [
    {
     "name": "stdout",
     "output_type": "stream",
     "text": [
      "Поэлементная сумма матриц [[0.15416284 0.7400497  0.26331502]\n",
      " [0.53373939 0.01457496 0.91874701]\n",
      " [0.90071485 0.03342143 0.95694934]] и [[1 2 3]\n",
      " [4 5 6]\n",
      " [7 8 9]] = [[1.15416284 2.7400497  3.26331502]\n",
      " [4.53373939 5.01457496 6.91874701]\n",
      " [7.90071485 8.03342143 9.95694934]]\n",
      "Поэлементная разность матриц [[0.15416284 0.7400497  0.26331502]\n",
      " [0.53373939 0.01457496 0.91874701]\n",
      " [0.90071485 0.03342143 0.95694934]] и [[1 2 3]\n",
      " [4 5 6]\n",
      " [7 8 9]] = [[-0.84583716 -1.2599503  -2.73668498]\n",
      " [-3.46626061 -4.98542504 -5.08125299]\n",
      " [-6.09928515 -7.96657857 -8.04305066]]\n",
      "Поэлементное произведение матриц [[0.15416284 0.7400497  0.26331502]\n",
      " [0.53373939 0.01457496 0.91874701]\n",
      " [0.90071485 0.03342143 0.95694934]] и [[1 2 3]\n",
      " [4 5 6]\n",
      " [7 8 9]] = [[0.15416284 1.48009939 0.78994505]\n",
      " [2.13495757 0.07287481 5.51248205]\n",
      " [6.30500398 0.26737142 8.61254403]]\n",
      "Поэлементная деление матриц [[0.15416284 0.7400497  0.26331502]\n",
      " [0.53373939 0.01457496 0.91874701]\n",
      " [0.90071485 0.03342143 0.95694934]] и [[1 2 3]\n",
      " [4 5 6]\n",
      " [7 8 9]] = [[0.15416284 0.37002485 0.08777167]\n",
      " [0.13343485 0.00291499 0.1531245 ]\n",
      " [0.12867355 0.00417768 0.1063277 ]]\n",
      "Матричное умножение [[0.15416284 0.7400497  0.26331502]\n",
      " [0.53373939 0.01457496 0.91874701]\n",
      " [0.90071485 0.03342143 0.95694934]] и [[1 2 3]\n",
      " [4 5 6]\n",
      " [7 8 9]] = [[ 4.95756673  6.11509429  7.27262184]\n",
      " [ 7.0232683   8.49032966  9.95739103]\n",
      " [ 7.73304592  9.62413154 11.51521715]]\n",
      "Скалярное произведение [[0.15416284 0.7400497  0.26331502]\n",
      " [0.53373939 0.01457496 0.91874701]\n",
      " [0.90071485 0.03342143 0.95694934]] и [[1 2 3]\n",
      " [4 5 6]\n",
      " [7 8 9]] = [[ 4.95756673  6.11509429  7.27262184]\n",
      " [ 7.0232683   8.49032966  9.95739103]\n",
      " [ 7.73304592  9.62413154 11.51521715]]\n"
     ]
    }
   ],
   "source": [
    "import numpy as np\n",
    "\n",
    "def seed(seed_value):\n",
    "    np.random.seed(seed_value)\n",
    "    mat_1 = np.random.rand(3, 3)\n",
    "    return mat_1\n",
    "\n",
    "def matrix_arithmetic(mat_1):\n",
    "    # Задайте телефонную матрицу [[1, 2, 3],[4, 5, 6],[7, 8, 9]], используя numpy\n",
    "    # Выполните все поэлемнтные операции с матрицами mat_1 и mat_2:\n",
    "    # сложение, вычитание из mat_1, умножение и деление mat_1\n",
    "\n",
    "    mat_2 = np.array([[1, 2, 3],[4, 5, 6],[7, 8, 9]])\n",
    "\n",
    "    matrix_sum = mat_1 + mat_2\n",
    "    matrix_diff = mat_1 - mat_2\n",
    "    elementwise_product = mat_1 * mat_2\n",
    "    elementwise_division = mat_1 / mat_2\n",
    "    matrix_product = mat_1 @ mat_2\n",
    "    scalar_multi = np.dot(mat_1, mat_2)\n",
    "\n",
    "    return mat_2, matrix_sum, matrix_diff, elementwise_product, elementwise_division, matrix_product, scalar_multi\n",
    "\n",
    "print(f\"Поэлементная сумма матриц {seed(12)} и {matrix_arithmetic(seed(12))[0]} = {matrix_arithmetic(seed(12))[1]}\")\n",
    "print(f\"Поэлементная разность матриц {seed(12)} и {matrix_arithmetic(seed(12))[0]} = {matrix_arithmetic(seed(12))[2]}\")\n",
    "print(f\"Поэлементное произведение матриц {seed(12)} и {matrix_arithmetic(seed(12))[0]} = {matrix_arithmetic(seed(12))[3]}\")\n",
    "print(f\"Поэлементная деление матриц {seed(12)} и {matrix_arithmetic(seed(12))[0]} = {matrix_arithmetic(seed(12))[4]}\")\n",
    "print(f\"Матричное умножение {seed(12)} и {matrix_arithmetic(seed(12))[0]} = {matrix_arithmetic(seed(12))[5]}\")\n",
    "print(f\"Скалярное произведение {seed(12)} и {matrix_arithmetic(seed(12))[0]} = {matrix_arithmetic(seed(12))[6]}\")"
   ]
  },
  {
   "cell_type": "code",
   "execution_count": 5,
   "id": "eab90324-b61f-4eec-b282-c05deca25075",
   "metadata": {},
   "outputs": [
    {
     "name": "stdout",
     "output_type": "stream",
     "text": [
      "Матричное умножение [0.15416284 0.7400497  0.26331502] и [[0.53373939 0.01457496 0.91874701 0.90071485]\n",
      " [0.03342143 0.95694934 0.13720932 0.28382835]\n",
      " [0.60608318 0.94422514 0.85273554 0.00225923]] = [0.2666071  0.95906564 0.46771644 0.34949874]\n"
     ]
    }
   ],
   "source": [
    "import numpy as np\n",
    "\n",
    "def seed(seed_value):\n",
    "    np.random.seed(seed_value)\n",
    "    vec_1 = np.random.rand(3)\n",
    "    mat_1 = np.random.rand(3, 4)\n",
    "\n",
    "    return vec_1, mat_1\n",
    "\n",
    "def matrix_arithmetic(vec_1, mat_1):\n",
    "\n",
    "    vec_2 = vec_1 @ mat_1\n",
    "\n",
    "    return vec_2\n",
    "\n",
    "print(f\"Матричное умножение {seed(12)[0]} и {seed(12)[1]} = {matrix_arithmetic(seed(12)[0],seed(12)[1])}\")"
   ]
  },
  {
   "cell_type": "code",
   "execution_count": 29,
   "id": "60e7631e-3bf0-478a-8636-52d4c5ea23ef",
   "metadata": {},
   "outputs": [
    {
     "data": {
      "image/png": "[encoded data removed]",
      "text/plain": [
       "<Figure size 640x480 with 1 Axes>"
      ]
     },
     "metadata": {},
     "output_type": "display_data"
    }
   ],
   "source": [
    "import matplotlib.pyplot as plt\n",
    "A = [\n",
    "    [0, 0],\n",
    "    [0, 1],\n",
    "    [1, 1],\n",
    "    [1, 0],\n",
    "    [0, 0]\n",
    "]\n",
    "A = np.array(A)\n",
    "x = A[:, 0]\n",
    "y = A[:, 1]\n",
    "plt.plot(x, y)\n",
    "plt.xlim((-5, 5))\n",
    "plt.ylim((-5, 5))\n",
    "plt.show()"
   ]
  },
  {
   "cell_type": "code",
   "execution_count": 30,
   "id": "5d948cf4-4556-4905-a158-982837e5d27f",
   "metadata": {},
   "outputs": [
    {
     "data": {
      "image/png": "[encoded data removed]",
      "text/plain": [
       "<Figure size 640x480 with 1 Axes>"
      ]
     },
     "metadata": {},
     "output_type": "display_data"
    }
   ],
   "source": [
    "B = np.array([[-1, -1], [1, 3]])\n",
    "res = B@A.transpose()\n",
    "t = res.transpose()\n",
    "A = np.array(t)\n",
    "x = A[:, 0]\n",
    "y = A[:, 1]\n",
    "plt.plot(x, y)\n",
    "plt.xlim((-5, 5))\n",
    "plt.ylim((-5, 5))\n",
    "plt.show()"
   ]
  },
  {
   "cell_type": "code",
   "execution_count": 31,
   "id": "90d7b5e0-3e65-4e24-b27b-c58d3d24befa",
   "metadata": {},
   "outputs": [],
   "source": [
    "from sklearn.decomposition import PCA"
   ]
  },
  {
   "cell_type": "code",
   "execution_count": 37,
   "id": "44f9cc34-09be-43b4-8df6-71fa6ef48f1a",
   "metadata": {},
   "outputs": [
    {
     "data": {
      "text/plain": [
       "array([[-1, -1],\n",
       "       [-2, -1],\n",
       "       [-3, -2],\n",
       "       [ 1,  1],\n",
       "       [ 2,  1],\n",
       "       [ 3,  2]])"
      ]
     },
     "execution_count": 37,
     "metadata": {},
     "output_type": "execute_result"
    }
   ],
   "source": [
    "X = np.array([[-1, -1], [-2, -1], [-3, -2], [1, 1], [2, 1], [3, 2]])\n",
    "X"
   ]
  },
  {
   "cell_type": "code",
   "execution_count": 42,
   "id": "67c28522-5677-463d-8cea-d1fdcb2ff7c8",
   "metadata": {},
   "outputs": [
    {
     "name": "stdout",
     "output_type": "stream",
     "text": [
      "[0.99244289 0.00755711]\n",
      "[6.30061232 0.54980396]\n"
     ]
    }
   ],
   "source": [
    "pca = PCA(n_components = 2)\n",
    "pca.fit(X)\n",
    "print(pca.explained_variance_ratio_)\n",
    "print(pca.singular_values_)"
   ]
  },
  {
   "cell_type": "code",
   "execution_count": 50,
   "id": "2216af91-99cf-49ce-bba4-f0e929caf24a",
   "metadata": {},
   "outputs": [],
   "source": [
    "t = []\n",
    "\n",
    "for kk in X:\n",
    "    for kk2 in X:\n",
    "        t.append(np.dot(kk, kk2))"
   ]
  },
  {
   "cell_type": "code",
   "execution_count": 59,
   "id": "d87cc005-4884-4cf2-ad29-60e4ae22270e",
   "metadata": {},
   "outputs": [],
   "source": [
    "def partition(l, n):\n",
    "    for i in range(0, len(l), n):\n",
    "        yield l[i:i + n]"
   ]
  },
  {
   "cell_type": "code",
   "execution_count": 62,
   "id": "a8161122-154f-413f-ba48-cbf665849868",
   "metadata": {},
   "outputs": [
    {
     "data": {
      "text/plain": [
       "array([[  2,   3,   5,  -2,  -3,  -5],\n",
       "       [  3,   5,   8,  -3,  -5,  -8],\n",
       "       [  5,   8,  13,  -5,  -8, -13],\n",
       "       [ -2,  -3,  -5,   2,   3,   5],\n",
       "       [ -3,  -5,  -8,   3,   5,   8],\n",
       "       [ -5,  -8, -13,   5,   8,  13]])"
      ]
     },
     "execution_count": 62,
     "metadata": {},
     "output_type": "execute_result"
    }
   ],
   "source": [
    "res = np.array(list(partition(t, len(X))))\n",
    "res"
   ]
  },
  {
   "cell_type": "code",
   "execution_count": 64,
   "id": "538c2eb2-056b-47dd-922a-1a5cb0b70827",
   "metadata": {},
   "outputs": [
    {
     "data": {
      "text/plain": [
       "array([ 3.96977156e+01, -6.90015056e-16,  3.02284396e-01,  8.21966262e-18,\n",
       "        6.38441615e-16, -3.38640291e-31])"
      ]
     },
     "execution_count": 64,
     "metadata": {},
     "output_type": "execute_result"
    }
   ],
   "source": [
    "ls = np.linalg.eigvals(res)\n",
    "ls"
   ]
  },
  {
   "cell_type": "code",
   "execution_count": 65,
   "id": "899d3adc-5385-4ec0-a12b-8bb86304e9ca",
   "metadata": {},
   "outputs": [
    {
     "data": {
      "text/plain": [
       "array([ 9.92442890e-01, -1.72503764e-17,  7.55710991e-03,  2.05491565e-19,\n",
       "        1.59610404e-17, -8.46600728e-33])"
      ]
     },
     "execution_count": 65,
     "metadata": {},
     "output_type": "execute_result"
    }
   ],
   "source": [
    "ls / ls.sum()"
   ]
  },
  {
   "cell_type": "code",
   "execution_count": 74,
   "id": "84e0e64e-c3c2-42eb-9aad-038fa61e9d28",
   "metadata": {},
   "outputs": [
    {
     "name": "stdout",
     "output_type": "stream",
     "text": [
      "Первая производная f'(5) = 277\n",
      "Вторая производная f'(5) = 116\n",
      "Первая производная f'(-2) = 53\n",
      "Вторая производная f'(-2) = -52\n",
      "Первая производная f'(0) = -3\n",
      "Вторая производная f'(0) = -4\n"
     ]
    }
   ],
   "source": [
    "import random\n",
    "\n",
    "def seed(seed):\n",
    "    random.seed(seed)\n",
    "    val1 = random.choice(range(-10,11))\n",
    "    return val1\n",
    "\n",
    "def function_1(x):\n",
    "    return 4*x**3 - 2*x**2 - 3*x + 3\n",
    "\n",
    "def first_derivative_1(x):\n",
    "    # Решение здесь\n",
    "    return 12*x**2 - 4*x - 3\n",
    "\n",
    "def second_derivative_1(x):\n",
    "    # Решение здесь \n",
    "    return 24*x - 4\n",
    "\n",
    "    \n",
    "print(f\"Первая производная f'({seed(12)}) = {first_derivative_1(seed(12))}\")\n",
    "print(f\"Вторая производная f'({seed(12)}) = {second_derivative_1(seed(12))}\")\n",
    "print(f\"Первая производная f'({seed(45)}) = {first_derivative_1(seed(45))}\")\n",
    "print(f\"Вторая производная f'({seed(45)}) = {second_derivative_1(seed(45))}\")\n",
    "print(f\"Первая производная f'({seed(7)}) = {first_derivative_1(seed(7))}\")\n",
    "print(f\"Вторая производная f'({seed(7)}) = {second_derivative_1(seed(7))}\")"
   ]
  },
  {
   "cell_type": "code",
   "execution_count": 78,
   "id": "5fbe6659-38a1-44b0-a558-66b00e66198b",
   "metadata": {},
   "outputs": [
    {
     "name": "stdout",
     "output_type": "stream",
     "text": [
      "Первая производная f'(π/6) = 9.229\n",
      "Вторая производная f'(π/6) = -5.486\n",
      "Первая производная f'(π/1) = -28.687\n",
      "Вторая производная f'(π/1) = 72.729\n",
      "Первая производная f'(π/3) = 3.021\n",
      "Вторая производная f'(π/3) = -17.957\n"
     ]
    }
   ],
   "source": [
    "import random\n",
    "\n",
    "def seed(seed):\n",
    "    random.seed(seed)\n",
    "    det = random.choice([-6,-4,-3,-1,1,3,4,6])\n",
    "    val2 = math.pi/det\n",
    "    return val2, det\n",
    "\n",
    "import math\n",
    "\n",
    "def function_2(x):\n",
    "    return 4*math.sin(x**2) - 3*math.cos(2*x) + 2*math.sin(3*x)\n",
    "\n",
    "def first_derivative_2(x):\n",
    "    # Продолжите решение здесь\n",
    "    return 8*x*math.cos(x**2) + 6*math.sin(2*x) + 6*math.cos(3*x)\n",
    "  \n",
    "\n",
    "def second_derivative_2(x):\n",
    "    # Продолжите решение здесь\n",
    "    return 8*math.cos(x**2) - 16*x**2*math.sin(x**2) + 12*math.cos(2*x) - 18*math.sin(3*x)\n",
    "\n",
    "print(f\"Первая производная f'(π/{seed(12)[1]}) = {round(first_derivative_2(seed(12)[0]),3)}\")\n",
    "print(f\"Вторая производная f'(π/{seed(12)[1]}) = {round(second_derivative_2(seed(12)[0]),3)}\")\n",
    "print(f\"Первая производная f'(π/{seed(45)[1]}) = {round(first_derivative_2(seed(45)[0]),3)}\")\n",
    "print(f\"Вторая производная f'(π/{seed(45)[1]}) = {round(second_derivative_2(seed(45)[0]),3)}\")\n",
    "print(f\"Первая производная f'(π/{seed(7)[1]}) = {round(first_derivative_2(seed(7)[0]),3)}\")\n",
    "print(f\"Вторая производная f'(π/{seed(7)[1]}) = {round(second_derivative_2(seed(7)[0]),3)}\")\n",
    "\n"
   ]
  },
  {
   "cell_type": "code",
   "execution_count": 80,
   "id": "0759b971-3b03-42f3-a672-b4edafcaebac",
   "metadata": {},
   "outputs": [
    {
     "name": "stdout",
     "output_type": "stream",
     "text": [
      "Первая производная f'(2) = 7.993\n",
      "Вторая производная f'(2) = 4.022\n",
      "Первая производная f'(-1) = -64.257\n",
      "Вторая производная f'(-1) = 184.77\n",
      "Первая производная f'(0) = -3.0\n",
      "Вторая производная f'(0) = 13.0\n"
     ]
    }
   ],
   "source": [
    "import random\n",
    "\n",
    "def seed(seed):\n",
    "    random.seed(seed)\n",
    "    val3 = random.choice(range(-5,6))\n",
    "    return val3\n",
    "\n",
    "import math\n",
    "\n",
    "def function_3(x):\n",
    "    return math.exp(-3*x) + 2*x**2 + 5\n",
    "\n",
    "def first_derivative_3(x):\n",
    "    # Продолжите решение здесь\n",
    "    return -3*math.exp(-3*x) + 4*x\n",
    "    \n",
    "def second_derivative_3(x):\n",
    "    # Продолжите решение здесь\n",
    "    return 9*math.exp(-3*x) + 4\n",
    "\n",
    "print(f\"Первая производная f'({seed(12)}) = {round(first_derivative_3(seed(12)),3)}\")\n",
    "print(f\"Вторая производная f'({seed(12)}) = {round(second_derivative_3(seed(12)),3)}\")\n",
    "print(f\"Первая производная f'({seed(45)}) = {round(first_derivative_3(seed(45)),3)}\")\n",
    "print(f\"Вторая производная f'({seed(45)}) = {round(second_derivative_3(seed(45)),3)}\")\n",
    "print(f\"Первая производная f'({seed(7)}) = {round(first_derivative_3(seed(7)),3)}\")\n",
    "print(f\"Вторая производная f'({seed(7)}) = {round(second_derivative_3(seed(7)),3)}\")"
   ]
  },
  {
   "cell_type": "code",
   "execution_count": 5,
   "id": "ae68a085-042d-46cf-9510-ba95bb8aea3c",
   "metadata": {},
   "outputs": [
    {
     "name": "stdout",
     "output_type": "stream",
     "text": [
      "Вектор градиент в точке [π/6, π/1] = [-0.0, 0.0]\n",
      "Матрица Гессе в точке [π/6, π/1] = [[9.0, 0],[0, -4.0]]\n",
      "Вектор градиент в точке [π/1, π/4] = [3.0, -2.0]\n",
      "Матрица Гессе в точке [π/1, π/4] = [[0.0, 0],[0, -0.0]]\n",
      "Вектор градиент в точке [π/3, π/-3] = [3.0, 1.732]\n",
      "Матрица Гессе в точке [π/3, π/-3] = [[0.0, 0],[0, 2.0]]\n"
     ]
    }
   ],
   "source": [
    "import random\n",
    "\n",
    "def seed(seed):\n",
    "    random.seed(seed)\n",
    "    det_1 = random.choice([-6,-4,-3,-1,1,3,4,6])\n",
    "    det_2 = random.choice([-6,-4,-3,-1,1,3,4,6])\n",
    "    val4_1 = math.pi/det_1\n",
    "    val4_2 = math.pi/det_2\n",
    "    return val4_1, val4_2, det_1, det_2\n",
    "\n",
    "import math\n",
    "\n",
    "def function_4(x, y):\n",
    "    return math.sin(-3*x) + math.cos(2*y)\n",
    "\n",
    "def gradient_4(x, y):\n",
    "    # Продолжите решение здесь\n",
    "    return [-3*math.cos(-3*x), -2*math.sin(2*y)]\n",
    "    \n",
    "def hessian_4(x, y):\n",
    "    # Продолжите решение здесь\n",
    "    return [[-9*math.sin(-3*x), 0], [0, -4*math.cos(2*y)]]\n",
    "\n",
    "print(f\"Вектор градиент в точке [π/{seed(12)[2]}, π/{seed(12)[3]}] = {[round(elem, 3) for elem in gradient_4(seed(12)[0], seed(12)[1])]}\")\n",
    "print(f\"Матрица Гессе в точке [π/{seed(12)[2]}, π/{seed(12)[3]}] = [{[round(elem, 3) for elem in hessian_4(seed(12)[0], seed(12)[1])[0]]},{[round(elem, 3) for elem in hessian_4(seed(12)[0], seed(12)[1])[1]]}]\")\n",
    "print(f\"Вектор градиент в точке [π/{seed(45)[2]}, π/{seed(45)[3]}] = {[round(elem, 3) for elem in gradient_4(seed(45)[0], seed(45)[1])]}\")\n",
    "print(f\"Матрица Гессе в точке [π/{seed(45)[2]}, π/{seed(45)[3]}] = [{[round(elem, 3) for elem in hessian_4(seed(45)[0], seed(45)[1])[0]]},{[round(elem, 3) for elem in hessian_4(seed(45)[0], seed(45)[1])[1]]}]\")\n",
    "print(f\"Вектор градиент в точке [π/{seed(7)[2]}, π/{seed(7)[3]}] = {[round(elem, 3) for elem in gradient_4(seed(7)[0], seed(7)[1])]}\")\n",
    "print(f\"Матрица Гессе в точке [π/{seed(7)[2]}, π/{seed(7)[3]}] = [{[round(elem, 3) for elem in hessian_4(seed(7)[0], seed(7)[1])[0]]},{[round(elem, 3) for elem in hessian_4(seed(7)[0], seed(7)[1])[1]]}]\")"
   ]
  },
  {
   "cell_type": "code",
   "execution_count": 7,
   "id": "491fbb55-8e97-4802-bb4c-271414d23d7a",
   "metadata": {},
   "outputs": [
    {
     "data": {
      "text/plain": [
       "[[9.0, 0], [0, -4.0]]"
      ]
     },
     "execution_count": 7,
     "metadata": {},
     "output_type": "execute_result"
    }
   ],
   "source": [
    "hessian_4(seed(12)[0], seed(12)[1])"
   ]
  },
  {
   "cell_type": "code",
   "execution_count": 1,
   "id": "11b3812f-9ffd-45b6-9bd1-256e24e1fbe7",
   "metadata": {},
   "outputs": [
    {
     "name": "stdout",
     "output_type": "stream",
     "text": [
      "\n"
     ]
    }
   ],
   "source": [
    "print()"
   ]
  }
 ],
 "metadata": {
  "kernelspec": {
   "display_name": "Python 3 (ipykernel)",
   "language": "python",
   "name": "python3"
  },
  "language_info": {
   "codemirror_mode": {
    "name": "ipython",
    "version": 3
   },
   "file_extension": ".py",
   "mimetype": "text/x-python",
   "name": "python",
   "nbconvert_exporter": "python",
   "pygments_lexer": "ipython3",
   "version": "3.11.7"
  }
 },
 "nbformat": 4,
 "nbformat_minor": 5
}
